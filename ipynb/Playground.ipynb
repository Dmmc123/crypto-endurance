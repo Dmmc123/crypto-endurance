{
 "cells": [
  {
   "cell_type": "code",
   "execution_count": 2,
   "metadata": {
    "collapsed": true,
    "ExecuteTime": {
     "end_time": "2023-07-14T08:19:24.343579889Z",
     "start_time": "2023-07-14T08:19:24.295967412Z"
    }
   },
   "outputs": [],
   "source": [
    "from finta import TA\n",
    "import pandas as pd"
   ]
  },
  {
   "cell_type": "code",
   "execution_count": 3,
   "outputs": [],
   "source": [
    "df = pd.read_csv(\"../datasets/BTC-USD.csv\")"
   ],
   "metadata": {
    "collapsed": false,
    "ExecuteTime": {
     "end_time": "2023-07-14T08:19:35.443793735Z",
     "start_time": "2023-07-14T08:19:35.400731087Z"
    }
   }
  },
  {
   "cell_type": "code",
   "execution_count": 6,
   "outputs": [
    {
     "data": {
      "text/plain": "0                NaN\n1                NaN\n2                NaN\n3                NaN\n4        9522.730664\n            ...     \n1246    30382.340630\n1247    30448.786724\n1248    30456.169536\n1249    30477.925078\n1250    30539.958203\nName: 5 period SMA, Length: 1251, dtype: float64"
     },
     "execution_count": 6,
     "metadata": {},
     "output_type": "execute_result"
    }
   ],
   "source": [
    "TA.SMA(df, 5)"
   ],
   "metadata": {
    "collapsed": false,
    "ExecuteTime": {
     "end_time": "2023-07-14T08:20:02.451635172Z",
     "start_time": "2023-07-14T08:20:02.448174692Z"
    }
   }
  },
  {
   "cell_type": "code",
   "execution_count": 7,
   "outputs": [
    {
     "data": {
      "text/plain": "         Date          Open          High           Low         Close  \\\n0  2020-02-03   9344.683594   9540.372070   9248.633789   9293.521484   \n1  2020-02-04   9292.841797   9331.265625   9112.811523   9180.962891   \n2  2020-02-05   9183.416016   9701.299805   9163.704102   9613.423828   \n3  2020-02-06   9617.821289   9824.619141   9539.818359   9729.801758   \n4  2020-02-07   9726.002930   9834.716797   9726.002930   9795.943359   \n5  2020-02-08   9792.454232   9962.665625   9639.855990   9819.432943   \n6  2020-02-09   9792.454232   9962.665625   9639.855990   9819.432943   \n7  2020-02-10  10115.559570  10165.765625   9784.563477   9856.611328   \n8  2020-02-11   9855.891602  10210.052734   9729.334961  10208.236328   \n9  2020-02-12  10202.387695  10393.611328  10202.387695  10326.054688   \n\n         Volume  T10YIE        SP500  SOFR180DAYAVG    IHLIDXUS  OBMMIC15YF  \n0  3.093410e+10    1.63  3248.920000        1.80147   99.970000    3.102000  \n1  2.989318e+10    1.64  3297.590000        1.79861  100.030000    3.126000  \n2  3.522206e+10    1.66  3334.690000        1.79587  100.120000    3.099000  \n3  3.762882e+10    1.67  3345.780000        1.79295  100.240000    3.118000  \n4  3.452272e+10    1.66  3327.710000        1.79004  100.200000    3.091000  \n5  4.049942e+10    1.65  3347.535714        1.77560   99.754667    3.108214  \n6  4.049942e+10    1.65  3347.535714        1.77560   99.754667    3.108214  \n7  3.938655e+10    1.66  3352.090000        1.78079  100.260000    3.090000  \n8  3.764806e+10    1.65  3357.750000        1.77771  100.230000    3.115000  \n9  4.344430e+10    1.66  3379.450000        1.77435  100.190000    3.118000  ",
      "text/html": "<div>\n<style scoped>\n    .dataframe tbody tr th:only-of-type {\n        vertical-align: middle;\n    }\n\n    .dataframe tbody tr th {\n        vertical-align: top;\n    }\n\n    .dataframe thead th {\n        text-align: right;\n    }\n</style>\n<table border=\"1\" class=\"dataframe\">\n  <thead>\n    <tr style=\"text-align: right;\">\n      <th></th>\n      <th>Date</th>\n      <th>Open</th>\n      <th>High</th>\n      <th>Low</th>\n      <th>Close</th>\n      <th>Volume</th>\n      <th>T10YIE</th>\n      <th>SP500</th>\n      <th>SOFR180DAYAVG</th>\n      <th>IHLIDXUS</th>\n      <th>OBMMIC15YF</th>\n    </tr>\n  </thead>\n  <tbody>\n    <tr>\n      <th>0</th>\n      <td>2020-02-03</td>\n      <td>9344.683594</td>\n      <td>9540.372070</td>\n      <td>9248.633789</td>\n      <td>9293.521484</td>\n      <td>3.093410e+10</td>\n      <td>1.63</td>\n      <td>3248.920000</td>\n      <td>1.80147</td>\n      <td>99.970000</td>\n      <td>3.102000</td>\n    </tr>\n    <tr>\n      <th>1</th>\n      <td>2020-02-04</td>\n      <td>9292.841797</td>\n      <td>9331.265625</td>\n      <td>9112.811523</td>\n      <td>9180.962891</td>\n      <td>2.989318e+10</td>\n      <td>1.64</td>\n      <td>3297.590000</td>\n      <td>1.79861</td>\n      <td>100.030000</td>\n      <td>3.126000</td>\n    </tr>\n    <tr>\n      <th>2</th>\n      <td>2020-02-05</td>\n      <td>9183.416016</td>\n      <td>9701.299805</td>\n      <td>9163.704102</td>\n      <td>9613.423828</td>\n      <td>3.522206e+10</td>\n      <td>1.66</td>\n      <td>3334.690000</td>\n      <td>1.79587</td>\n      <td>100.120000</td>\n      <td>3.099000</td>\n    </tr>\n    <tr>\n      <th>3</th>\n      <td>2020-02-06</td>\n      <td>9617.821289</td>\n      <td>9824.619141</td>\n      <td>9539.818359</td>\n      <td>9729.801758</td>\n      <td>3.762882e+10</td>\n      <td>1.67</td>\n      <td>3345.780000</td>\n      <td>1.79295</td>\n      <td>100.240000</td>\n      <td>3.118000</td>\n    </tr>\n    <tr>\n      <th>4</th>\n      <td>2020-02-07</td>\n      <td>9726.002930</td>\n      <td>9834.716797</td>\n      <td>9726.002930</td>\n      <td>9795.943359</td>\n      <td>3.452272e+10</td>\n      <td>1.66</td>\n      <td>3327.710000</td>\n      <td>1.79004</td>\n      <td>100.200000</td>\n      <td>3.091000</td>\n    </tr>\n    <tr>\n      <th>5</th>\n      <td>2020-02-08</td>\n      <td>9792.454232</td>\n      <td>9962.665625</td>\n      <td>9639.855990</td>\n      <td>9819.432943</td>\n      <td>4.049942e+10</td>\n      <td>1.65</td>\n      <td>3347.535714</td>\n      <td>1.77560</td>\n      <td>99.754667</td>\n      <td>3.108214</td>\n    </tr>\n    <tr>\n      <th>6</th>\n      <td>2020-02-09</td>\n      <td>9792.454232</td>\n      <td>9962.665625</td>\n      <td>9639.855990</td>\n      <td>9819.432943</td>\n      <td>4.049942e+10</td>\n      <td>1.65</td>\n      <td>3347.535714</td>\n      <td>1.77560</td>\n      <td>99.754667</td>\n      <td>3.108214</td>\n    </tr>\n    <tr>\n      <th>7</th>\n      <td>2020-02-10</td>\n      <td>10115.559570</td>\n      <td>10165.765625</td>\n      <td>9784.563477</td>\n      <td>9856.611328</td>\n      <td>3.938655e+10</td>\n      <td>1.66</td>\n      <td>3352.090000</td>\n      <td>1.78079</td>\n      <td>100.260000</td>\n      <td>3.090000</td>\n    </tr>\n    <tr>\n      <th>8</th>\n      <td>2020-02-11</td>\n      <td>9855.891602</td>\n      <td>10210.052734</td>\n      <td>9729.334961</td>\n      <td>10208.236328</td>\n      <td>3.764806e+10</td>\n      <td>1.65</td>\n      <td>3357.750000</td>\n      <td>1.77771</td>\n      <td>100.230000</td>\n      <td>3.115000</td>\n    </tr>\n    <tr>\n      <th>9</th>\n      <td>2020-02-12</td>\n      <td>10202.387695</td>\n      <td>10393.611328</td>\n      <td>10202.387695</td>\n      <td>10326.054688</td>\n      <td>4.344430e+10</td>\n      <td>1.66</td>\n      <td>3379.450000</td>\n      <td>1.77435</td>\n      <td>100.190000</td>\n      <td>3.118000</td>\n    </tr>\n  </tbody>\n</table>\n</div>"
     },
     "execution_count": 7,
     "metadata": {},
     "output_type": "execute_result"
    }
   ],
   "source": [
    "df.head(10)"
   ],
   "metadata": {
    "collapsed": false,
    "ExecuteTime": {
     "end_time": "2023-07-14T08:20:12.058619160Z",
     "start_time": "2023-07-14T08:20:12.055266526Z"
    }
   }
  }
 ],
 "metadata": {
  "kernelspec": {
   "display_name": "Python 3",
   "language": "python",
   "name": "python3"
  },
  "language_info": {
   "codemirror_mode": {
    "name": "ipython",
    "version": 2
   },
   "file_extension": ".py",
   "mimetype": "text/x-python",
   "name": "python",
   "nbconvert_exporter": "python",
   "pygments_lexer": "ipython2",
   "version": "2.7.6"
  }
 },
 "nbformat": 4,
 "nbformat_minor": 0
}
