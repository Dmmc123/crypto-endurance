{
 "cells": [
  {
   "cell_type": "code",
   "execution_count": 1,
   "outputs": [],
   "source": [
    "from sklearn.model_selection import train_test_split\n",
    "from sklearn.metrics import f1_score\n",
    "import xgboost as xgb\n",
    "import pandas as pd\n",
    "import numpy as np"
   ],
   "metadata": {
    "collapsed": false,
    "ExecuteTime": {
     "end_time": "2023-07-14T11:50:37.323631545Z",
     "start_time": "2023-07-14T11:50:36.581302633Z"
    }
   }
  },
  {
   "cell_type": "code",
   "execution_count": 2,
   "outputs": [],
   "source": [
    "# load the data\n",
    "df = pd.read_csv(\"../datasets/BTC-USD.csv\")\n",
    "# define features and target\n",
    "look_back = 20\n",
    "feature_df = df.drop(columns=\"Date\", axis=1)\n",
    "features = []\n",
    "targets = []\n",
    "for i in range(look_back, len(df) - 1):\n",
    "    features.append(feature_df.values[i-look_back:i])\n",
    "    price_delta = df[\"Close\"].values[i+1] - df[\"Close\"].values[i]\n",
    "    targets.append(0 if price_delta < 0 else 1)\n",
    "# convert to numpy arrays for use with XGBoost\n",
    "features = np.array(features)\n",
    "targets = np.array(targets)\n",
    "features_flattened = features.reshape(features.shape[0], -1)\n",
    "# create regression matrices\n",
    "d_train = xgb.DMatrix(features_flattened, label=targets)"
   ],
   "metadata": {
    "collapsed": false,
    "ExecuteTime": {
     "end_time": "2023-07-14T11:50:56.224226794Z",
     "start_time": "2023-07-14T11:50:56.100873418Z"
    }
   }
  },
  {
   "cell_type": "code",
   "execution_count": 3,
   "outputs": [],
   "source": [
    "training_params = {\n",
    "    \"objective\": \"reg:logistic\",\n",
    "    \"learning_rate\": 0.05,\n",
    "    \"max_depth\": 6,\n",
    "    \"subsample\": 1,\n",
    "    \"colsample_bytree\": 0.9\n",
    "}\n",
    "model = xgb.train(\n",
    "    params=training_params,\n",
    "    dtrain=d_train,\n",
    "    num_boost_round=200\n",
    ")"
   ],
   "metadata": {
    "collapsed": false,
    "ExecuteTime": {
     "end_time": "2023-07-14T11:51:40.129990419Z",
     "start_time": "2023-07-14T11:51:37.006313874Z"
    }
   }
  },
  {
   "cell_type": "code",
   "execution_count": 4,
   "outputs": [],
   "source": [
    "model.save_model(\"../weights/xgb_next_day_trend.json\")"
   ],
   "metadata": {
    "collapsed": false,
    "ExecuteTime": {
     "end_time": "2023-07-14T11:51:56.732163150Z",
     "start_time": "2023-07-14T11:51:56.705118894Z"
    }
   }
  }
 ],
 "metadata": {
  "kernelspec": {
   "display_name": "Python 3",
   "language": "python",
   "name": "python3"
  },
  "language_info": {
   "codemirror_mode": {
    "name": "ipython",
    "version": 2
   },
   "file_extension": ".py",
   "mimetype": "text/x-python",
   "name": "python",
   "nbconvert_exporter": "python",
   "pygments_lexer": "ipython2",
   "version": "2.7.6"
  }
 },
 "nbformat": 4,
 "nbformat_minor": 0
}
